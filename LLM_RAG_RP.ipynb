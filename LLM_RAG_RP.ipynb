{
  "cells": [
    {
      "cell_type": "markdown",
      "metadata": {},
      "source": [
        "# Setup"
      ]
    },
    {
      "cell_type": "code",
      "execution_count": 2,
      "metadata": {},
      "outputs": [
        {
          "name": "stdout",
          "output_type": "stream",
          "text": [
            "Defaulting to user installation because normal site-packages is not writeable\n",
            "Requirement already satisfied: nltk in /home/user/.local/lib/python3.10/site-packages (3.8.1)\n",
            "Requirement already satisfied: tqdm in /home/user/.local/lib/python3.10/site-packages (from nltk) (4.66.4)\n",
            "Requirement already satisfied: regex>=2021.8.3 in /home/user/.local/lib/python3.10/site-packages (from nltk) (2024.5.15)\n",
            "Requirement already satisfied: click in /usr/lib/python3/dist-packages (from nltk) (8.0.3)\n",
            "Requirement already satisfied: joblib in /home/user/.local/lib/python3.10/site-packages (from nltk) (1.4.2)\n"
          ]
        },
        {
          "name": "stderr",
          "output_type": "stream",
          "text": [
            "USER_AGENT environment variable not set, consider setting it to identify your requests.\n"
          ]
        }
      ],
      "source": [
        "# Import necessary modules\n",
        "\n",
        "!pip install nltk\n",
        "\n",
        "import getpass\n",
        "import os\n",
        "from enum import Enum\n",
        "from operator import itemgetter\n",
        "from langchain_openai import ChatOpenAI, OpenAIEmbeddings\n",
        "from langchain_core.prompts import ChatPromptTemplate, PromptTemplate\n",
        "from langchain_core.output_parsers import JsonOutputParser, StrOutputParser\n",
        "from langchain_core.pydantic_v1 import BaseModel, Field\n",
        "from langchain_core.runnables import RunnablePassthrough, RunnableParallel\n",
        "from langchain_chroma import Chroma\n",
        "from langchain_community.document_loaders import WebBaseLoader, PyPDFLoader\n",
        "from langchain_community.embeddings.sentence_transformer import SentenceTransformerEmbeddings\n",
        "from langchain_text_splitters import RecursiveCharacterTextSplitter\n",
        "\n",
        "#NLTK import\n",
        "import nltk\n",
        "from nltk.tokenize import word_tokenize\n",
        "from nltk.corpus import stopwords\n",
        "import string\n",
        "import re\n"
      ]
    },
    {
      "cell_type": "code",
      "execution_count": 3,
      "metadata": {},
      "outputs": [
        {
          "name": "stderr",
          "output_type": "stream",
          "text": [
            "[nltk_data] Downloading package punkt to /home/user/nltk_data...\n",
            "[nltk_data]   Package punkt is already up-to-date!\n",
            "[nltk_data] Downloading package stopwords to /home/user/nltk_data...\n",
            "[nltk_data]   Package stopwords is already up-to-date!\n"
          ]
        },
        {
          "data": {
            "text/plain": [
              "True"
            ]
          },
          "execution_count": 3,
          "metadata": {},
          "output_type": "execute_result"
        }
      ],
      "source": [
        "nltk.download('punkt')\n",
        "nltk.download('stopwords')\n"
      ]
    },
    {
      "cell_type": "markdown",
      "metadata": {
        "id": "AcG4VN92SbZi"
      },
      "source": [
        "# Loading / Splitting dataset"
      ]
    },
    {
      "cell_type": "code",
      "execution_count": 24,
      "metadata": {
        "colab": {
          "base_uri": "https://localhost:8080/"
        },
        "id": "_Ea52IZJSg1E",
        "outputId": "04bb45dc-3029-4c07-8ba1-3662bb5fe0ff"
      },
      "outputs": [
        {
          "name": "stdout",
          "output_type": "stream",
          "text": [
            "BIKE SHOPMANUALA GUIDE FOR BA SIC REP AIRS2021-2022\n",
            "UCSB ASSOCIATEDSTUDENTS\n",
            "\n",
            "101\n"
          ]
        }
      ],
      "source": [
        "# Load and split documents\n",
        "pdf_directory = \"./PDF_FILES\"\n",
        "child_splitter = RecursiveCharacterTextSplitter(chunk_size=200, chunk_overlap=25, add_start_index=True)\n",
        "parent_splitter = RecursiveCharacterTextSplitter(chunk_size=1000, chunk_overlap=100, add_start_index=True)\n",
        "\n",
        "all_docs = []\n",
        "for filename in os.listdir(pdf_directory):\n",
        "    if filename.endswith(\".pdf\"):\n",
        "        #print(filename)\n",
        "        pdfloader = PyPDFLoader(os.path.join(pdf_directory, filename))\n",
        "        docs = pdfloader.load()\n",
        "        all_docs.extend(docs)\n",
        "\n",
        "print(len(all_docs))"
      ]
    },
    {
      "cell_type": "markdown",
      "metadata": {},
      "source": [
        "# Embedding Phase\n"
      ]
    },
    {
      "cell_type": "code",
      "execution_count": 3,
      "metadata": {},
      "outputs": [
        {
          "name": "stderr",
          "output_type": "stream",
          "text": [
            "/home/user/.local/lib/python3.10/site-packages/langchain_core/_api/deprecation.py:139: LangChainDeprecationWarning: The class `HuggingFaceEmbeddings` was deprecated in LangChain 0.2.2 and will be removed in 0.3.0. An updated version of the class exists in the langchain-huggingface package and should be used instead. To use it run `pip install -U langchain-huggingface` and import as `from langchain_huggingface import HuggingFaceEmbeddings`.\n",
            "  warn_deprecated(\n",
            "/home/user/.local/lib/python3.10/site-packages/sentence_transformers/cross_encoder/CrossEncoder.py:11: TqdmWarning: IProgress not found. Please update jupyter and ipywidgets. See https://ipywidgets.readthedocs.io/en/stable/user_install.html\n",
            "  from tqdm.autonotebook import tqdm, trange\n",
            "2024-06-19 11:55:58.285554: I tensorflow/core/platform/cpu_feature_guard.cc:210] This TensorFlow binary is optimized to use available CPU instructions in performance-critical operations.\n",
            "To enable the following instructions: AVX2 FMA, in other operations, rebuild TensorFlow with the appropriate compiler flags.\n",
            "2024-06-19 11:55:59.405249: W tensorflow/compiler/tf2tensorrt/utils/py_utils.cc:38] TF-TRT Warning: Could not find TensorRT\n",
            "/home/user/.local/lib/python3.10/site-packages/huggingface_hub/file_download.py:1132: FutureWarning: `resume_download` is deprecated and will be removed in version 1.0.0. Downloads always resume when possible. If you want to force a new download, use `force_download=True`.\n",
            "  warnings.warn(\n"
          ]
        }
      ],
      "source": [
        "\n",
        "# Embedding Phase\n",
        "sentence_transformer_ef = SentenceTransformerEmbeddings(model_name=\"all-MiniLM-L6-v2\")\n",
        "vectorstore = Chroma(collection_name=\"full_documents\", embedding_function=sentence_transformer_ef)\n",
        "\n",
        "\n",
        "# Other embedding models are available in:\n",
        "# - lang_chain_embedding_models\n",
        "# - sentence-transformers\n",
        "# - Kaggle (includes all ML models, not just embedding ones)"
      ]
    },
    {
      "cell_type": "markdown",
      "metadata": {},
      "source": [
        "# Retrieving Phase"
      ]
    },
    {
      "cell_type": "code",
      "execution_count": 7,
      "metadata": {},
      "outputs": [
        {
          "name": "stdout",
          "output_type": "stream",
          "text": [
            "bike. Again be careful not to push the rivetout of thelink!If someone brings a bike in without a chainor you\n",
            "========\n",
            "1.Inspect the chain forrust, broken, twisted or bentlinks. Anoverly rusted chain that cannot bendneedsto be replaced.Achain with \"play\" in its links is indicative of wearand the chainmay need to be replaced. Use thechain checkertooltomeasure the amount of play in a suspect multi-speedchain.(Ask a fellow mechanic how to use this tool). Usethe chainbreaker tool to break the chain as stated in theSingleSpeedChain Replacement Tutorial. *Do not push the pin allthe wayout.2.Next, get the correct size chain that correspondswith thenumber of speeds on the rear wheel of the bike.3.Again, new chains will likely have excess chains thatneed to beremoved to match the size of the old chain. Lay thenew andold chain next to each other and align each link toidentify thelink where the new chain must be broken. Remove thelinkwith the same technique used to originally removethe chainfrom the bike. Again be careful not to push the rivetout of thelink!If someone brings a bike in without a chainor you\n"
          ]
        }
      ],
      "source": [
        "from langchain.retrievers import ParentDocumentRetriever\n",
        "from langchain.storage import InMemoryStore\n",
        "\n",
        "store = InMemoryStore()\n",
        "retriever = ParentDocumentRetriever(\n",
        "    vectorstore=vectorstore,\n",
        "    docstore=store,\n",
        "    child_splitter=child_splitter,\n",
        "    parent_splitter=parent_splitter,\n",
        ")\n",
        "\n",
        "retriever.add_documents(all_docs)\n",
        "len(list(store.yield_keys()))\n",
        "\n",
        "sub_docs = vectorstore.similarity_search(\"bike\")\n",
        "print((sub_docs[0].page_content))\n",
        "print(\"========\")\n",
        "retrieved_docs = retriever.invoke(\"bike\")\n",
        "print((retrieved_docs[0].page_content))\n",
        "#len(retrieved_docs[0].page_content)"
      ]
    },
    {
      "cell_type": "markdown",
      "metadata": {},
      "source": [
        "# Answer generation phase"
      ]
    },
    {
      "cell_type": "code",
      "execution_count": 8,
      "metadata": {
        "colab": {
          "base_uri": "https://localhost:8080/",
          "height": 1000
        },
        "id": "FDQYkRvN3d1n",
        "outputId": "caf71266-f0d2-4f23-cace-1f7352fa069e"
      },
      "outputs": [
        {
          "name": "stdout",
          "output_type": "stream",
          "text": [
            "Prompt: what does happen to bracket components over time?\n",
            "\n",
            "Context: bracket bearings. During rotation, the bearings roll on the bottombracket cup surfaces. Over time, the bottom bracketsystem canbecome loose and this can accelerate the wear on thebearings andcup surfaces. It is important to properly maintainbottom bracketcomponents to extend their lifetime.Typically, inthe shop weseepress-fittedone-piece bottom brackets(common onbeach cruisers),English threaded three-piece bottom brackets, andEnglishthreadedcartridge bottom brackets.\n",
            "One-Piece Bottom Brackets\n",
            "In one-piece bottom brackets, one S-shaped piece ofsteel forms thecrank arms and goes from the pedal, through the bottombracket, tothe other pedal. This crank also acts as the bottombracket bearingaxle. The crank arm is threaded in the middle andacts as the bottombracket’s spindle. The crank drive side threadingis right-handthreaded, and the non-drive side (left side) is left-handthreaded. It isnecessary to first remove the left side pedal in orderto remove thecrank.\n",
            "One-Piece Overhaul\n",
            "\n",
            "Three-Piece Overhaul\n",
            "Over time bottom bracket components will become worn.This maycause the bottom bracket to become loose, make noisesduringrotation, or become hard to pedal/rotate.\n",
            "In these cases, the bottom bracket should be overhauledand partsshould be cleaned and/or replaced if damaged.\n",
            "●Objective:Be able to identify when a bottom bracketneeds anoverhaul. Be able to properly disassemble and reassemblebottombracket components and replace components if needed. \n",
            "●Approximate completion time: 25-30 min1.*(These first 4 steps are the same as in the crankremovaltutorial.) Remove the chain from the chainring andlet thechain rest to the inside of the chainring on the bottombracketshell.\n",
            "\n",
            "Cartridge Bottom Brackets\n",
            "Generally, for cartridge bottom brackets, the bearingsare used untilthey are worn out, and then they are replaced. Formost cartridgebottom brackets, the entire bottom bracket unit isreplaced, includingthe spindle.Again, typically we deal with Englishthreaded bottom\n",
            "43\n",
            "\n",
            "5.Next, loosen the cone with aspanner. Turnclockwisetoloosen the cone. Remove the cone fully.6.Remove the bearings from the non-drive side.7.With all the non-drive side components removed, removethecrankset from the bottom bracket shell.8.Inspect the bearing retainers, cup races, and coneraces. If anycomponents are significantly worn or damaged theyshould bereplaced.Usually, the bearings are the damaged componentsand need to be replaced.9.Clean all of the components with a solvent (simplegreen/degreaser).10.Generously grease the bearings, cup and cone races.Placethe bearing retainers, facing one another, back intothe bottombracket cups.  Grease will extend the lifetime ofthecomponents by reducing friction between componentsurfaces.11.Place the crankset back in the bottom bracket shellmakingsure the drive side components are installed.12.Reinstall the non-drive side components. Tighten thenon-drive side cone (counterclockwise) until it contactsthebearings and then loosen 1/4\n",
            "\n",
            "Answer: Over time, bottom bracket components can become worn, causing the bottom bracket to become loose, make noises during rotation, or become hard to pedal/rotate. In these cases, the bottom bracket should be overhauled, and parts should be cleaned and/or replaced if damaged. For cartridge bottom brackets, the bearings are used until they are worn out and then replaced, often requiring the entire bottom bracket unit to be replaced, including the spindle.\n",
            "\n",
            "Evaluation: correct\n",
            "\n",
            "Answer description: The answer provides a detailed explanation of what happens to bracket components over time, including symptoms of wear and the need for overhaul and replacement in certain cases.\n"
          ]
        }
      ],
      "source": [
        "\n",
        "#get password using GUI\n",
        "os.environ[\"OPENAI_API_KEY\"] = getpass.getpass()\n",
        "\n",
        "#class to grade llm answer\n",
        "class gradeEnum(str, Enum):\n",
        "    correct = \"correct\"\n",
        "    incorrect = \"incorrect\"\n",
        "\n",
        "#class to eval answer by question and context\n",
        "class LLMEvalResult(BaseModel):\n",
        "    grade: gradeEnum = Field(description=\"Final grade label. Accepted labels: correct, incorrect\")\n",
        "    description: str = Field(description=\"Explanation of why the specific grade was assigned. Must be concise. Not more than 2 sentences\")\n",
        "    llm_answer: str = Field(description=\"The original LLM answer evaluated\", default=\"\")\n",
        "    context: str = Field(description=\"The context used for the evaluation\", default=\"\")\n",
        "\n",
        "json_parser = JsonOutputParser(pydantic_object=LLMEvalResult)\n",
        "\n",
        "\n",
        "# LLM for answering questions and evaluating Q-A pairs\n",
        "llm = ChatOpenAI(model=\"gpt-3.5-turbo-0125\")\n",
        "llm_selfeval = ChatOpenAI(model_name=\"gpt-3.5-turbo\", temperature=0)\n",
        "\n",
        "# Define prompts\n",
        "qa_prompt = ChatPromptTemplate.from_messages([\n",
        "    (\"human\", \"You are an assistant for question-answering tasks. Use the following pieces of retrieved context to answer the question. If you don't know the answer, just say that you don't know. Question: {question} Context: {context} Answer:\")\n",
        "])\n",
        "\n",
        "qa_eval_prompt_text = \"\"\"\n",
        "You are a teacher evaluating a test. \n",
        "You are provided with a question along with an answer for the question written by a student. Evaluate the question-answer pair and provide feedback.\n",
        "{format_instructions}\n",
        "Question: {question}\n",
        "Answer: {answer}\n",
        "\"\"\"\n",
        "\n",
        "qa_eval_prompt = PromptTemplate(\n",
        "    template=qa_eval_prompt_text,\n",
        "    input_variables=[\"question\", \"answer\"],\n",
        "    partial_variables={\"format_instructions\": json_parser.get_format_instructions()}\n",
        ")\n",
        "\n",
        "qa_eval_prompt_with_context_text = \"\"\"\n",
        "You are a teacher evaluating a test. \n",
        "You are provided with a question along with an answer for the question written by a student. Evaluate the question-answer pair using the provided context and provide feedback. Only mark the answer as correct if it agrees with the provided context.\n",
        "{format_instructions}\n",
        "Context: {context}\n",
        "Question: {question}\n",
        "Answer: {answer}\n",
        "\"\"\"\n",
        "\n",
        "qa_eval_prompt_with_context = PromptTemplate(\n",
        "    template=qa_eval_prompt_with_context_text,\n",
        "    input_variables=[\"question\", \"answer\", \"context\"],\n",
        "    partial_variables={\"format_instructions\": json_parser.get_format_instructions()}\n",
        ")\n",
        "\n",
        "# Define RAG Chain\n",
        "def format_docs(docs):\n",
        "    return \"\\n\\n\".join(doc.page_content for doc in docs)\n",
        "\n",
        "def retrieve_answer(output):\n",
        "    return output.content\n",
        "\n",
        "def process_eval_output(output, llm_answer, context):\n",
        "    if output['grade'] == \"correct\":\n",
        "        output['llm_answer'] = llm_answer\n",
        "    output['context'] = context\n",
        "    return output\n",
        "\n",
        "rag_chain = (\n",
        "    RunnableParallel(\n",
        "        context=retriever | format_docs,\n",
        "        question=RunnablePassthrough()\n",
        "    ) |\n",
        "    RunnableParallel(\n",
        "        answer=qa_prompt | llm | retrieve_answer,\n",
        "        question=itemgetter(\"question\"),\n",
        "        context=itemgetter(\"context\")\n",
        "    ) |\n",
        "    RunnableParallel(\n",
        "        eval_result=qa_eval_prompt_with_context | llm_selfeval | json_parser,\n",
        "        context=itemgetter(\"context\"),\n",
        "        question=itemgetter(\"question\"),\n",
        "        answer=itemgetter(\"answer\")\n",
        "    ) |\n",
        "    (lambda x: process_eval_output(x['eval_result'], x['answer'], x['context']))\n",
        ")\n",
        "\n",
        "# Get user prompt and invoke RAG chain\n",
        "user_prompt = \"what does happen to bracket components over time?\"\n",
        "json_answer = rag_chain.invoke(user_prompt)\n",
        "print(f\"Prompt: {user_prompt}\\n\\nContext: {json_answer['context']}\\n\\nAnswer: {json_answer['llm_answer']}\\n\\nEvaluation: {json_answer['grade']}\\n\\nAnswer description: {json_answer['description']}\")\n"
      ]
    }
  ],
  "metadata": {
    "colab": {
      "provenance": []
    },
    "kernelspec": {
      "display_name": "Python 3",
      "name": "python3"
    },
    "language_info": {
      "codemirror_mode": {
        "name": "ipython",
        "version": 3
      },
      "file_extension": ".py",
      "mimetype": "text/x-python",
      "name": "python",
      "nbconvert_exporter": "python",
      "pygments_lexer": "ipython3",
      "version": "3.10.12"
    }
  },
  "nbformat": 4,
  "nbformat_minor": 0
}
