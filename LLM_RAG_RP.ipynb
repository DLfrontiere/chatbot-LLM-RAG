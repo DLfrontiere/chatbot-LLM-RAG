{
  "cells": [
    {
      "cell_type": "markdown",
      "metadata": {},
      "source": [
        "# Setup"
      ]
    },
    {
      "cell_type": "code",
      "execution_count": 25,
      "metadata": {},
      "outputs": [],
      "source": [
        "# Import necessary modules\n",
        "import getpass\n",
        "import os\n",
        "from enum import Enum\n",
        "from operator import itemgetter\n",
        "from langchain_openai import ChatOpenAI, OpenAIEmbeddings\n",
        "from langchain_core.prompts import ChatPromptTemplate, PromptTemplate, MessagesPlaceholder\n",
        "from langchain_core.output_parsers import JsonOutputParser, StrOutputParser\n",
        "from langchain_core.pydantic_v1 import BaseModel, Field\n",
        "from langchain_core.runnables import RunnablePassthrough, RunnableParallel\n",
        "from langchain_core.runnables.history import RunnableWithMessageHistory\n",
        "from langchain_chroma import Chroma\n",
        "from langchain_community.document_loaders import WebBaseLoader, PyPDFLoader\n",
        "from langchain_community.embeddings.sentence_transformer import SentenceTransformerEmbeddings\n",
        "from langchain_text_splitters import RecursiveCharacterTextSplitter\n",
        "import tkinter as tk\n",
        "from tkinter import scrolledtext\n",
        "import gradio as gr\n",
        "from langchain_community.chat_models import ChatAnthropic"
      ]
    },
    {
      "cell_type": "markdown",
      "metadata": {
        "id": "AcG4VN92SbZi"
      },
      "source": [
        "# Loading / Splitting dataset"
      ]
    },
    {
      "cell_type": "code",
      "execution_count": 67,
      "metadata": {
        "colab": {
          "base_uri": "https://localhost:8080/"
        },
        "id": "_Ea52IZJSg1E",
        "outputId": "04bb45dc-3029-4c07-8ba1-3662bb5fe0ff"
      },
      "outputs": [
        {
          "name": "stdout",
          "output_type": "stream",
          "text": [
            "AS-BIKE-SHOP-WEB-MANUAL.pdf\n",
            "<class 'list'> <class 'langchain_core.documents.base.Document'>\n",
            "<class 'list'> <class 'str'>\n",
            "dyson_contrarotator.pdf\n",
            "<class 'list'> <class 'langchain_core.documents.base.Document'>\n",
            "<class 'list'> <class 'str'>\n"
          ]
        }
      ],
      "source": [
        "# Load and split documents\n",
        "pdf_directory = \"./PDF_FILES\"\n",
        "recursive_splitter = RecursiveCharacterTextSplitter(chunk_size=10000, chunk_overlap=1000, add_start_index=True)\n",
        "\n",
        "all_docs = []\n",
        "for filename in os.listdir(pdf_directory):\n",
        "    if filename.endswith(\".pdf\"):\n",
        "        print(filename)\n",
        "        pdfloader = PyPDFLoader(os.path.join(pdf_directory, filename))\n",
        "        docs = pdfloader.load_and_split(text_splitter=recursive_splitter)\n",
        "        print(type(docs),type(docs[0]))\n",
        "        docs = [doc.page_content for doc in docs]\n",
        "        print(type(docs),type(docs[0]))\n",
        "        all_docs.extend(docs)\n",
        "        "
      ]
    },
    {
      "cell_type": "markdown",
      "metadata": {},
      "source": [
        "# Embedding Phase\n"
      ]
    },
    {
      "cell_type": "code",
      "execution_count": 72,
      "metadata": {},
      "outputs": [
        {
          "name": "stderr",
          "output_type": "stream",
          "text": [
            "/home/utente/.local/lib/python3.10/site-packages/huggingface_hub/file_download.py:1132: FutureWarning: `resume_download` is deprecated and will be removed in version 1.0.0. Downloads always resume when possible. If you want to force a new download, use `force_download=True`.\n",
            "  warnings.warn(\n"
          ]
        },
        {
          "data": {
            "text/plain": [
              "['b7d9168a-b470-45bb-9306-bc36155698d5',\n",
              " '8079bec7-2d19-4c97-9028-1f7c115c63b7',\n",
              " '52852bc4-3b0a-4dd3-99f7-5b40f65d49e6',\n",
              " 'ae8c5064-f642-4245-934a-d049d54d8d28',\n",
              " 'b4335063-aa61-40e2-af43-1a2aa7c18139',\n",
              " '9cb8fff2-b198-4ace-ac3b-f02c16ff96f7',\n",
              " '9acb651d-aeb4-419b-87cf-28ff0284eea0',\n",
              " 'c47497a6-d6c3-45d0-822a-9afa35860bbe',\n",
              " '8bca8fa0-e255-41bb-8bf4-9164df994f07',\n",
              " '422863b8-7fa2-4a9c-b842-9df5abd02ffa',\n",
              " 'df564fa1-b058-4576-ace3-2ea7d9f1cec1',\n",
              " 'abdc596a-2fd2-4c62-b24f-ac2544fae960',\n",
              " '86ca2a9f-9b81-40f8-aa5b-9e698b2694c9',\n",
              " '14031f1e-fef9-4e08-9fa4-39833eb44568',\n",
              " '70b42039-e3ac-4c0d-b62e-b772af1b0f82',\n",
              " 'a846dbf3-fb83-4f9f-9673-1fa5fbe325aa',\n",
              " '3abfe816-200b-4bfc-929c-99e53592fc07',\n",
              " '325a5b26-e107-4be7-b8e1-5671c09b5bd3',\n",
              " '07a24dc8-af7b-4e1b-89e5-4e0a34975aa7',\n",
              " 'bb01aa88-136f-47ab-b3f7-0e4514431dd4',\n",
              " 'ec68cfab-61bc-4ef1-9de8-9d2a6b451ca1',\n",
              " '7fa45328-cf9a-4799-a1cd-3a8aee0de907',\n",
              " '818c0923-3195-474d-b10f-1a8bcb98a3dc',\n",
              " '3022c76c-886a-4167-ac48-ca7a35675788',\n",
              " '7f735ca6-d2e0-4e83-9e3f-b976e0afa42b',\n",
              " 'ca94c50a-30a0-4a10-a30b-e806e290ecc7',\n",
              " '4c0ec286-3a93-4bf4-a7b9-e3fbd3c23fe7',\n",
              " '05cdcde2-147a-48a9-a035-98a4142168f2',\n",
              " 'b0728b6e-6c0a-4e84-991c-336c53e997f7',\n",
              " '9d3fdb41-7be6-487e-88fb-88743f04a0a1',\n",
              " '96faa30f-37ec-412f-be6a-c875a7ef4c28',\n",
              " '67706017-acbc-438e-8c6a-f2011c8a5ff4',\n",
              " '385310b6-3d0f-4d24-9033-0612f8b00f17',\n",
              " '0e44f75d-48eb-4ee5-99e6-38482cb90c72',\n",
              " '071d739a-a559-4f5d-a657-3141f3ab654b',\n",
              " 'e88d280d-08dc-4ed8-8013-07344280aad1',\n",
              " '5c40f706-6162-46de-b621-d07c643e1cc5',\n",
              " '93e390c0-bec6-44eb-b50b-cfea57f07791',\n",
              " '577d3173-3c4f-4bde-9bbd-054eb35ecca3',\n",
              " '7446d8c3-1a22-466d-9e7c-ac99b2757f32',\n",
              " 'da81c7f1-0ec5-4dc6-925f-71f86d52fc8e',\n",
              " '64cdcd9b-5fc5-4115-b275-59b6021e81a9',\n",
              " '698201a3-dc74-45da-8884-95c32bae71d1',\n",
              " '57294af2-04e1-47a7-bdc4-6312960afbcf',\n",
              " 'f4294d66-4d04-4d0e-ab2a-50a448697868',\n",
              " '5e6cc36f-4b45-46ff-a2f2-f7d1ec7c128d',\n",
              " '5d5aee57-c587-42fd-a2bc-8925d6ed8025',\n",
              " '136a870a-49e9-43d0-ad1a-b93bbaa25ac7',\n",
              " 'fd35c760-1d44-4726-8ce4-204aa03460d9',\n",
              " '9ffbc7ba-7ea8-48dd-8782-08b04e00e209',\n",
              " '18abca4f-5110-43c3-81fd-e8032c5fb64a',\n",
              " 'ca566f5f-bed2-48bc-9c44-dfa03f0687b9',\n",
              " '33e6b89a-807a-44c9-b482-a456713059d9',\n",
              " 'd404cb39-5881-4038-b91c-5996ce8e5add',\n",
              " 'ce8292f6-e04b-4d0d-9dd0-8b1a3656ec78',\n",
              " '61825543-6f5c-4be7-afd5-5d9da21a7f82',\n",
              " '23d2f940-7e3a-43b2-8822-b437a26535d8',\n",
              " '18a8f774-9f91-4ba6-a71e-e8cb0c03ae21',\n",
              " 'a1b8d6eb-de81-4bed-aadf-9d1ad9851d00',\n",
              " '5dbdbdfa-c109-4799-897d-c709b346ad02',\n",
              " '7ca11533-213f-4a02-bbcd-59ace2796f7a',\n",
              " '24601048-d47c-40a7-a76c-5d24793d7466',\n",
              " 'a2184c49-2356-4cde-9d55-939afacb5f1b',\n",
              " '05045259-b0f0-412c-ad59-3f8afaf4d502',\n",
              " '034cfbd7-498c-46fa-8748-30ff6426eedf',\n",
              " '873a5691-a6c1-4624-8b12-f371d88e8552',\n",
              " 'c9147f8a-4886-4c18-8c1e-e6ec0aff4fcf',\n",
              " '2eb7118b-5b71-490c-8a53-51741c2661c4',\n",
              " '604ebcb0-8dd1-4097-9502-adcd9ec04f70',\n",
              " 'c3eb51eb-b446-4783-a370-752a7df4cd87',\n",
              " '79d0b8e3-20a7-4d84-b20c-3855d4c148b5',\n",
              " 'cfe755af-ad90-42d4-8128-23a2f87d3e71',\n",
              " '40780928-dc47-49ab-9ec1-cfa2bf652630',\n",
              " '71d01f91-fb53-4108-86fc-0511d8dbdc00',\n",
              " 'ec14c8af-2882-4b69-8223-36a0ed3ee668',\n",
              " '0e25c3a4-e69e-4c46-9ece-7264b65ca5a6',\n",
              " '15ffd988-bc7e-48de-b726-14589e29c88d',\n",
              " 'd8b53d6b-cbb9-4ed6-8e7a-091426a1e7c8',\n",
              " '85e54db0-b13f-4087-a13a-d3c8a003690b',\n",
              " '2d2072ee-8ddf-4a55-96e6-d58194a5aecc',\n",
              " '66b1376b-5fd0-4a4b-a975-31c55323e764',\n",
              " 'ff4fb690-6201-494e-a835-165b64a6eff2',\n",
              " '91b27eae-f8c8-4a74-bb17-a11cdabe00fa',\n",
              " '880a53db-b53b-42fb-afa8-be0048a4125e',\n",
              " 'ce5c7f1e-c87b-4ba1-82a1-f910669c75ad',\n",
              " 'cccf4b60-d953-4042-b659-fda625d86132',\n",
              " '883e1172-22d8-457f-b74e-5fdcbc6d4b10',\n",
              " '4c69348b-3119-490c-a798-ca2a8a1fb777',\n",
              " 'faadf5db-7b0e-4b71-90e7-5945848a898f',\n",
              " '9a92930f-c575-4ed2-bdee-64814f1705c7',\n",
              " 'd8ae7ce3-5604-4724-a6dd-c596da02c9df',\n",
              " '650f18a8-8ca7-4290-83ba-bfee85295c63',\n",
              " 'c2e397c6-06c6-445f-8c3d-5ef9b7f8b2b1',\n",
              " '5ee677f0-1653-44bf-b176-c7b576fc223d',\n",
              " '85c214ba-7acf-40fd-aca0-a7ac83c9e5b2',\n",
              " 'aaf9e980-f9e0-4d85-9a7a-201129d9a8f3',\n",
              " '5755584f-e250-4406-8a21-dcdb202ed072',\n",
              " '2bceb729-9eed-426d-85ab-3451ca1730b1',\n",
              " '0e31fb79-5610-403e-bceb-69ae186c7f16',\n",
              " 'e9ede7df-97f4-49d1-b693-a2b9b4911d07']"
            ]
          },
          "execution_count": 72,
          "metadata": {},
          "output_type": "execute_result"
        }
      ],
      "source": [
        "\n",
        "# Embedding Phase\n",
        "sentence_transformer_ef = SentenceTransformerEmbeddings(model_name=\"all-MiniLM-L6-v2\")\n",
        "vectorstore = Chroma(collection_name=\"pdf\", embedding_function=sentence_transformer_ef)\n",
        "vectorstore.add_texts(all_docs)\n",
        "\n",
        "# Other embedding models are available in:\n",
        "# - lang_chain_embedding_models\n",
        "# - sentence-transformers\n",
        "# - Kaggle (includes all ML models, not just embedding ones)"
      ]
    },
    {
      "cell_type": "markdown",
      "metadata": {},
      "source": [
        "# Retrieving Phase"
      ]
    },
    {
      "cell_type": "code",
      "execution_count": 94,
      "metadata": {},
      "outputs": [
        {
          "name": "stdout",
          "output_type": "stream",
          "text": [
            "Context retrieved: \n",
            "bracket bearings. During rotation, the bearings roll on the bottombracket cup surfaces. Over time, the bottom bracketsystem canbecome loose and this can accelerate the wear on thebearings andcup surfaces. It is important to properly maintainbottom bracketcomponents to extend their lifetime.Typically, inthe shop weseepress-fittedone-piece bottom brackets(common onbeach cruisers),English threaded three-piece bottom brackets, andEnglishthreadedcartridge bottom brackets.\n",
            "One-Piece Bottom Brackets\n",
            "In one-piece bottom brackets, one S-shaped piece ofsteel forms thecrank arms and goes from the pedal, through the bottombracket, tothe other pedal. This crank also acts as the bottombracket bearingaxle. The crank arm is threaded in the middle andacts as the bottombracket’s spindle. The crank drive side threadingis right-handthreaded, and the non-drive side (left side) is left-handthreaded. It isnecessary to first remove the left side pedal in orderto remove thecrank.\n",
            "One-Piece Overhaul\n",
            "If an one-piece bottom bracket is extremely loosethen it is likely thatthe bearings inside are damaged and/or the cup racesare drasticallyworn. In this situation, a bottom bracket overhaulis needed toreadjust or replace any problem components.\n",
            "●Objective:Be able to diagnose when a one-piece bottombracketneeds an overhaul, be able to replace any damagedparts and beable to properly and securely reinstall the componentsonto thebike.Approximate Completion Time: 15-20 min\n",
            "1.Remove the chain from the chainring and rest it onthe bottombracket shell so that it is out of the way.38\n",
            "Three-Piece Overhaul\n",
            "Over time bottom bracket components will become worn.This maycause the bottom bracket to become loose, make noisesduringrotation, or become hard to pedal/rotate.\n",
            "In these cases, the bottom bracket should be overhauledand partsshould be cleaned and/or replaced if damaged.\n",
            "●Objective:Be able to identify when a bottom bracketneeds anoverhaul. Be able to properly disassemble and reassemblebottombracket components and replace components if needed. \n",
            "●Approximate completion time: 25-30 min1.*(These first 4 steps are the same as in the crankremovaltutorial.) Remove the chain from the chainring andlet thechain rest to the inside of the chainring on the bottombracketshell. \n",
            "2.Begin by removing the crank arm bolt from the crankarm witha crank arm wrench. Loosen the bolt (counterclockwise)untilit is completely removed. For some spindles, you willjust haveto remove a nut that threads onto the spindle itself.The crankarm wrench has a14mmsocket and an8mmhex to removetheaxle bolt/nut. \n",
            "3.Next, you will need acrank arm removal tool. Threadthistool completely into the threads on the crank arm.Be carefulnot to cross-thread or you can strip the threads onthe crankarm! If the threads are not properly engaging thencontact anexperienced mechanic before proceeding.  If you stripthethreads in a crank arm you have fucked up....royally.Sodon't do it.4.With the crank arm removal tool fully engaged, rotatethe armof the tool clockwise.This will cause the tool topush against the41\n",
            "brackets, however, we do see other thread types. Ask an experiencedmechanic is you are unsure of the thread type.\n",
            "Cartridge Replacement\n",
            "To determine if the bottom bracket is worn or hasdeveloped play, dropthe chain off the chainring to the inside.\n",
            "Objective:Be able to identify a cartridge bottombracket andwhen it needs to be replaced. Be able to properlydisassemble oldcartridge bottom bracket and install a new bottombracket.Approximate completion time: 25-30 min1.*(These first 4 steps are the same as in the crankremovaltutorial.) This Removes the chain from the chainringand letthe chain rest to the inside of the chainring on thebottombracket shell. \n",
            "2.Begin by removing the crank arm bolt from the crankarm witha crank arm wrench. Loosen the bolt (counterclockwise)untilit is completely removed. For some spindles you willjust haveto remove a nut that threads onto the spindle itself.The crankarm wrench has a14mmsocket and an8mmhex to removetheaxle bolt/nut. \n",
            "3.Next, you will need acrank arm removal tool. Threadthistool completely into the threads on the crank arm.Be carefulnot to cross-thread or you can strip the threads onthe crankarm! If the threads are not properly engaging thencontact anexperienced mechanic before proceeding.  If you stripthethreads in a crank arm you have fucked up....royally.Sodon't do it.4.With the crank arm removal tool fully engaged, rotatethe armof the tool clockwise.This will cause the tool topush against thebottom bracket spindle in order to disengage the crankarmfrom the spindle.As the crank arm is removed moreresistancewill be encountered but continue to turn the toolarmclockwise until the crank is completely removed. *Repeatthisprocedure for the opposite crank arm. \n",
            "5.Insert abottom bracket cartridgetool fully intothe fittingsof the non-drive side cup. Turn the toolcounterclockwisetoloosen the cup and remove it completely.6.Insert the tool fully into the drive side cup andturnclockwiseto loosen it and remove it completely.44\n",
            "Two-Piece Crankset\n",
            "Two-piece cranksets are commonly found on higher endbikes.One side of the crank is permanently attached to thespindle,and the other side of the spindle is slotted to matewith theother crank. The spindle sits on the bottom bracketbearingdirectly. These types of cranks have a compressioncap on thecrank that is removed. Shimano Hollowtech also havetwopinch bolts on that crank. On the crank that is attachedwiththe spindle, there is usually a giant hole, or nothingat all. TheBB system that come with these cranks are either threadedexternal cup or pressed in.\n",
            "The installation and removal process for these cranksvaryfrom manufacturer, so identify the brand, model, andlook upthe official manual.\n",
            "12. Bottom Brackets\n",
            "The bottom bracket system supports a spindle thatattaches to a set ofcrank arms. The bearings in bottom brackets see alot of load fromriding. The bottom bracket shell on the bike framesupports bottom\n",
            "37\n",
            "Cottered Cranks:\n",
            "Cottered cranks are only found on older bikes typicallyaroundearly 1970s. They are obsolete due to their difficultyto workon and mechanical disadvantage. A cotter pin is insertedinto ahole in the cranks to secure the cranks. The cotterpin has aside that is ground into a wedge, and it contactsa flat face onthe spindle. The tip of one side of the cotter pinis threaded,and a nut is threaded onto it to secure the pin whenthe crankis installed.\n",
            "More information on Cottered cranks can be found onSheldonBrown’s website: Cottered Cranks (Google: SheldonBrownCottered Cranks).\n",
            "36\n",
            "Three-Piece Adjustment\n",
            "If a three-piece bottom bracket is slightly loose,then a small adjustmentof the non-drive side cup may be sufficient to eliminatethe play.\n",
            "Approximate completion time: <5 min\n",
            "1.Remove the chain from the chainring and let the chainrest tothe inside of the chainring on the bottom bracketshell.2.Loosen lockring on non-drive side cup.3.Tighten the cup until you feel it contact the bearings.This mayrequire you to remove the non-drive side crank.4.Check the rotation of the spindle. The rotation shouldbesmooth and there should be no play. Loosen/tightenas neededuntil spindle feels properly adjusted.5.Tighten lockring on the non-drive side cup completely.6.Put the chain back onto the chainring.7.Test ride the bike to feel the bottom bracket.\n",
            "Cartridge Bottom Brackets\n",
            "Generally, for cartridge bottom brackets, the bearingsare used untilthey are worn out, and then they are replaced. Formost cartridgebottom brackets, the entire bottom bracket unit isreplaced, includingthe spindle.Again, typically we deal with Englishthreaded bottom\n",
            "43\n"
          ]
        }
      ],
      "source": [
        "# Retrieving Phase\n",
        "retriever = vectorstore.as_retriever(search_type=\"similarity\", search_kwargs={\"k\": 6})\n",
        "\n",
        "# Retrieve test\n",
        "retrieved_docs = retriever.invoke(\"what does happen to bracket components over time?\")\n",
        "print(\"Context retrieved: \")\n",
        "for retrieved_doc in retrieved_docs:\n",
        "    print(retrieved_doc.page_content)"
      ]
    },
    {
      "cell_type": "markdown",
      "metadata": {},
      "source": [
        "# Answer generation phase"
      ]
    },
    {
      "cell_type": "code",
      "execution_count": 105,
      "metadata": {
        "colab": {
          "base_uri": "https://localhost:8080/",
          "height": 1000
        },
        "id": "FDQYkRvN3d1n",
        "outputId": "caf71266-f0d2-4f23-cace-1f7352fa069e"
      },
      "outputs": [
        {
          "name": "stdout",
          "output_type": "stream",
          "text": [
            "Running on local URL:  http://127.0.0.1:7876\n",
            "\n",
            "To create a public link, set `share=True` in `launch()`.\n"
          ]
        },
        {
          "data": {
            "text/html": [
              "<div><iframe src=\"http://127.0.0.1:7876/\" width=\"100%\" height=\"500\" allow=\"autoplay; camera; microphone; clipboard-read; clipboard-write;\" frameborder=\"0\" allowfullscreen></iframe></div>"
            ],
            "text/plain": [
              "<IPython.core.display.HTML object>"
            ]
          },
          "metadata": {},
          "output_type": "display_data"
        },
        {
          "data": {
            "text/plain": []
          },
          "execution_count": 105,
          "metadata": {},
          "output_type": "execute_result"
        },
        {
          "name": "stderr",
          "output_type": "stream",
          "text": [
            "Parent run 341bd1c3-404b-4d8b-98d2-f4c2dea53c2f not found for run 257f8542-844f-4337-b870-f6309312f4ac. Treating as a root run.\n",
            "Parent run 5a10ac8a-ab02-4804-8476-0288c1206c40 not found for run e48aef15-fdbe-48aa-85a3-5e9f0d814a81. Treating as a root run.\n",
            "Parent run 3352e945-52db-4b44-921e-f573e49c98fc not found for run 4293bae0-abc5-413c-9a92-9f2199ab5d0c. Treating as a root run.\n"
          ]
        }
      ],
      "source": [
        "\n",
        "from langchain.chains import create_history_aware_retriever, create_retrieval_chain\n",
        "from langchain.chains.combine_documents import create_stuff_documents_chain\n",
        "from langchain_chroma import Chroma\n",
        "from langchain_community.chat_message_histories import ChatMessageHistory\n",
        "from langchain_core.chat_history import BaseChatMessageHistory\n",
        "from langchain_core.prompts import ChatPromptTemplate, MessagesPlaceholder\n",
        "from langchain_core.runnables.history import RunnableWithMessageHistory\n",
        "\n",
        "import gradio as gr\n",
        "\n",
        "llm = ChatOpenAI(model=\"gpt-3.5-turbo\", temperature=0)\n",
        "\n",
        "### Contextualize question ###\n",
        "contextualize_q_system_prompt = (\n",
        "    \"Given a chat history and the latest user question \"\n",
        "    \"which might reference context in the chat history, \"\n",
        "    \"formulate a standalone question which can be understood \"\n",
        "    \"without the chat history. Do NOT answer the question, \"\n",
        "    \"just reformulate it if needed and otherwise return it as is.\"\n",
        ")\n",
        "contextualize_q_prompt = ChatPromptTemplate.from_messages(\n",
        "    [\n",
        "        (\"system\", contextualize_q_system_prompt),\n",
        "        MessagesPlaceholder(\"chat_history\"),\n",
        "        (\"human\", \"{input}\"),\n",
        "    ]\n",
        ")\n",
        "history_aware_retriever = create_history_aware_retriever(\n",
        "    llm, retriever, contextualize_q_prompt\n",
        ")\n",
        "### Answer question ###\n",
        "system_prompt = (\n",
        "    \"You are an assistant for question-answering tasks. \"\n",
        "    \"Use the following pieces of retrieved context to answer \"\n",
        "    \"the question. If you don't know the answer, say that you \"\n",
        "    \"don't know. Use three sentences maximum and keep the \"\n",
        "    \"answer concise.\"\n",
        "    \"\\n\\n\"\n",
        "    \"{context}\"\n",
        ")\n",
        "\n",
        "qa_prompt = ChatPromptTemplate.from_messages(\n",
        "    [\n",
        "        (\"system\", system_prompt),\n",
        "        MessagesPlaceholder(\"chat_history\"),\n",
        "        (\"human\", \"{input}\"),\n",
        "    ]\n",
        ")\n",
        "\n",
        "question_answer_chain = create_stuff_documents_chain(llm, qa_prompt)\n",
        "rag_chain = create_retrieval_chain(history_aware_retriever, question_answer_chain)\n",
        "### Statefully manage chat history ###\n",
        "store = {}\n",
        "def get_session_history(session_id: str) -> BaseChatMessageHistory:\n",
        "    if session_id not in store:\n",
        "        store[session_id] = ChatMessageHistory()\n",
        "    return store[session_id]\n",
        "conversational_rag_chain = RunnableWithMessageHistory(\n",
        "    rag_chain,\n",
        "    get_session_history,\n",
        "    input_messages_key=\"input\",\n",
        "    history_messages_key=\"chat_history\",\n",
        "    output_messages_key=\"answer\",\n",
        ")\n",
        "\n",
        "\n",
        "def chat(inp):\n",
        "  \"\"\"Function to handle user input and return Bard's response\"\"\"\n",
        "  user_input = inp\n",
        "  if not user_input:\n",
        "    return None\n",
        "  answer = conversational_rag_chain.invoke(\n",
        "      {\"input\": user_input},\n",
        "      config={\"configurable\": {\"session_id\": \"abc123\"}},\n",
        "  )[\"answer\"]\n",
        "  return f\"\\nYou: {user_input}\\nBard: {answer}\"\n",
        "\n",
        "\n",
        "# Define the chat interface\n",
        "interface = gr.Interface(\n",
        "  fn=chat,\n",
        "  inputs=gr.Textbox(placeholder=\"Type your question here...\"),\n",
        "  outputs=gr.Textbox(value=\"\"),\n",
        "  title=\"Chat with me\",\n",
        "  description=\"Ask me anything!\",\n",
        "  elem_id=\"chat-container\",\n",
        ")\n",
        "\n",
        "# Display the interface\n",
        "interface.launch()"
      ]
    }
  ],
  "metadata": {
    "colab": {
      "provenance": []
    },
    "kernelspec": {
      "display_name": "Python 3",
      "name": "python3"
    },
    "language_info": {
      "codemirror_mode": {
        "name": "ipython",
        "version": 3
      },
      "file_extension": ".py",
      "mimetype": "text/x-python",
      "name": "python",
      "nbconvert_exporter": "python",
      "pygments_lexer": "ipython3",
      "version": "3.10.12"
    }
  },
  "nbformat": 4,
  "nbformat_minor": 0
}
