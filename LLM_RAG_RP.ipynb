{
  "cells": [
    {
      "cell_type": "markdown",
      "metadata": {},
      "source": [
        "# Setup"
      ]
    },
    {
      "cell_type": "code",
      "execution_count": 1,
      "metadata": {},
      "outputs": [
        {
          "name": "stderr",
          "output_type": "stream",
          "text": [
            "USER_AGENT environment variable not set, consider setting it to identify your requests.\n"
          ]
        }
      ],
      "source": [
        "# Import necessary modules\n",
        "import getpass\n",
        "import os\n",
        "from enum import Enum\n",
        "from operator import itemgetter\n",
        "from langchain_openai import ChatOpenAI, OpenAIEmbeddings\n",
        "from langchain_core.prompts import ChatPromptTemplate, PromptTemplate\n",
        "from langchain_core.output_parsers import JsonOutputParser, StrOutputParser\n",
        "from langchain_core.pydantic_v1 import BaseModel, Field\n",
        "from langchain_core.runnables import RunnablePassthrough, RunnableParallel\n",
        "from langchain_chroma import Chroma\n",
        "from langchain_community.document_loaders import WebBaseLoader, PyPDFLoader\n",
        "from langchain_community.embeddings.sentence_transformer import SentenceTransformerEmbeddings\n",
        "from langchain_text_splitters import RecursiveCharacterTextSplitter\n"
      ]
    },
    {
      "cell_type": "markdown",
      "metadata": {
        "id": "AcG4VN92SbZi"
      },
      "source": [
        "# Loading / Splitting dataset"
      ]
    },
    {
      "cell_type": "code",
      "execution_count": 5,
      "metadata": {
        "colab": {
          "base_uri": "https://localhost:8080/"
        },
        "id": "_Ea52IZJSg1E",
        "outputId": "04bb45dc-3029-4c07-8ba1-3662bb5fe0ff"
      },
      "outputs": [
        {
          "name": "stdout",
          "output_type": "stream",
          "text": [
            "AS-BIKE-SHOP-WEB-MANUAL.pdf\n",
            "dyson_contrarotator.pdf\n"
          ]
        }
      ],
      "source": [
        "# Load and split documents\n",
        "pdf_directory = \"./PDF_FILES\"\n",
        "recursive_splitter = RecursiveCharacterTextSplitter(chunk_size=10000, chunk_overlap=1000, add_start_index=True)\n",
        "\n",
        "all_docs = []\n",
        "for filename in os.listdir(pdf_directory):\n",
        "    if filename.endswith(\".pdf\"):\n",
        "        print(filename)\n",
        "        pdfloader = PyPDFLoader(os.path.join(pdf_directory, filename))\n",
        "        docs = pdfloader.load_and_split(text_splitter=recursive_splitter)\n",
        "        all_docs.extend(docs)\n",
        "        "
      ]
    },
    {
      "cell_type": "markdown",
      "metadata": {},
      "source": [
        "# Embedding Phase\n"
      ]
    },
    {
      "cell_type": "code",
      "execution_count": 6,
      "metadata": {},
      "outputs": [
        {
          "name": "stderr",
          "output_type": "stream",
          "text": [
            "/home/utente/.local/lib/python3.10/site-packages/langchain_core/_api/deprecation.py:139: LangChainDeprecationWarning: The class `HuggingFaceEmbeddings` was deprecated in LangChain 0.2.2 and will be removed in 0.3.0. An updated version of the class exists in the langchain-huggingface package and should be used instead. To use it run `pip install -U langchain-huggingface` and import as `from langchain_huggingface import HuggingFaceEmbeddings`.\n",
            "  warn_deprecated(\n",
            "/home/utente/.local/lib/python3.10/site-packages/sentence_transformers/cross_encoder/CrossEncoder.py:11: TqdmWarning: IProgress not found. Please update jupyter and ipywidgets. See https://ipywidgets.readthedocs.io/en/stable/user_install.html\n",
            "  from tqdm.autonotebook import tqdm, trange\n",
            "2024-06-19 11:14:50.361574: I tensorflow/core/platform/cpu_feature_guard.cc:210] This TensorFlow binary is optimized to use available CPU instructions in performance-critical operations.\n",
            "To enable the following instructions: AVX2 FMA, in other operations, rebuild TensorFlow with the appropriate compiler flags.\n",
            "2024-06-19 11:14:51.319263: W tensorflow/compiler/tf2tensorrt/utils/py_utils.cc:38] TF-TRT Warning: Could not find TensorRT\n",
            "/home/utente/.local/lib/python3.10/site-packages/huggingface_hub/file_download.py:1132: FutureWarning: `resume_download` is deprecated and will be removed in version 1.0.0. Downloads always resume when possible. If you want to force a new download, use `force_download=True`.\n",
            "  warnings.warn(\n"
          ]
        }
      ],
      "source": [
        "\n",
        "# Embedding Phase\n",
        "sentence_transformer_ef = SentenceTransformerEmbeddings(model_name=\"all-MiniLM-L6-v2\")\n",
        "vectorstore = Chroma.from_documents(documents=all_docs, embedding=sentence_transformer_ef)\n",
        "\n",
        "\n",
        "# Other embedding models are available in:\n",
        "# - lang_chain_embedding_models\n",
        "# - sentence-transformers\n",
        "# - Kaggle (includes all ML models, not just embedding ones)"
      ]
    },
    {
      "cell_type": "markdown",
      "metadata": {},
      "source": [
        "# Retrieving Phase"
      ]
    },
    {
      "cell_type": "code",
      "execution_count": 7,
      "metadata": {},
      "outputs": [
        {
          "name": "stdout",
          "output_type": "stream",
          "text": [
            "Context retrieved: \n",
            "bracket bearings. During rotation, the bearings roll on the bottombracket cup surfaces. Over time, the bottom bracketsystem canbecome loose and this can accelerate the wear on thebearings andcup surfaces. It is important to properly maintainbottom bracketcomponents to extend their lifetime.Typically, inthe shop weseepress-fittedone-piece bottom brackets(common onbeach cruisers),English threaded three-piece bottom brackets, andEnglishthreadedcartridge bottom brackets.\n",
            "One-Piece Bottom Brackets\n",
            "In one-piece bottom brackets, one S-shaped piece ofsteel forms thecrank arms and goes from the pedal, through the bottombracket, tothe other pedal. This crank also acts as the bottombracket bearingaxle. The crank arm is threaded in the middle andacts as the bottombracket’s spindle. The crank drive side threadingis right-handthreaded, and the non-drive side (left side) is left-handthreaded. It isnecessary to first remove the left side pedal in orderto remove thecrank.\n",
            "One-Piece Overhaul\n",
            "If an one-piece bottom bracket is extremely loosethen it is likely thatthe bearings inside are damaged and/or the cup racesare drasticallyworn. In this situation, a bottom bracket overhaulis needed toreadjust or replace any problem components.\n",
            "●Objective:Be able to diagnose when a one-piece bottombracketneeds an overhaul, be able to replace any damagedparts and beable to properly and securely reinstall the componentsonto thebike.Approximate Completion Time: 15-20 min\n",
            "1.Remove the chain from the chainring and rest it onthe bottombracket shell so that it is out of the way.38\n",
            "Three-Piece Overhaul\n",
            "Over time bottom bracket components will become worn.This maycause the bottom bracket to become loose, make noisesduringrotation, or become hard to pedal/rotate.\n",
            "In these cases, the bottom bracket should be overhauledand partsshould be cleaned and/or replaced if damaged.\n",
            "●Objective:Be able to identify when a bottom bracketneeds anoverhaul. Be able to properly disassemble and reassemblebottombracket components and replace components if needed. \n",
            "●Approximate completion time: 25-30 min1.*(These first 4 steps are the same as in the crankremovaltutorial.) Remove the chain from the chainring andlet thechain rest to the inside of the chainring on the bottombracketshell. \n",
            "2.Begin by removing the crank arm bolt from the crankarm witha crank arm wrench. Loosen the bolt (counterclockwise)untilit is completely removed. For some spindles, you willjust haveto remove a nut that threads onto the spindle itself.The crankarm wrench has a14mmsocket and an8mmhex to removetheaxle bolt/nut. \n",
            "3.Next, you will need acrank arm removal tool. Threadthistool completely into the threads on the crank arm.Be carefulnot to cross-thread or you can strip the threads onthe crankarm! If the threads are not properly engaging thencontact anexperienced mechanic before proceeding.  If you stripthethreads in a crank arm you have fucked up....royally.Sodon't do it.4.With the crank arm removal tool fully engaged, rotatethe armof the tool clockwise.This will cause the tool topush against the41\n",
            "brackets, however, we do see other thread types. Ask an experiencedmechanic is you are unsure of the thread type.\n",
            "Cartridge Replacement\n",
            "To determine if the bottom bracket is worn or hasdeveloped play, dropthe chain off the chainring to the inside.\n",
            "Objective:Be able to identify a cartridge bottombracket andwhen it needs to be replaced. Be able to properlydisassemble oldcartridge bottom bracket and install a new bottombracket.Approximate completion time: 25-30 min1.*(These first 4 steps are the same as in the crankremovaltutorial.) This Removes the chain from the chainringand letthe chain rest to the inside of the chainring on thebottombracket shell. \n",
            "2.Begin by removing the crank arm bolt from the crankarm witha crank arm wrench. Loosen the bolt (counterclockwise)untilit is completely removed. For some spindles you willjust haveto remove a nut that threads onto the spindle itself.The crankarm wrench has a14mmsocket and an8mmhex to removetheaxle bolt/nut. \n",
            "3.Next, you will need acrank arm removal tool. Threadthistool completely into the threads on the crank arm.Be carefulnot to cross-thread or you can strip the threads onthe crankarm! If the threads are not properly engaging thencontact anexperienced mechanic before proceeding.  If you stripthethreads in a crank arm you have fucked up....royally.Sodon't do it.4.With the crank arm removal tool fully engaged, rotatethe armof the tool clockwise.This will cause the tool topush against thebottom bracket spindle in order to disengage the crankarmfrom the spindle.As the crank arm is removed moreresistancewill be encountered but continue to turn the toolarmclockwise until the crank is completely removed. *Repeatthisprocedure for the opposite crank arm. \n",
            "5.Insert abottom bracket cartridgetool fully intothe fittingsof the non-drive side cup. Turn the toolcounterclockwisetoloosen the cup and remove it completely.6.Insert the tool fully into the drive side cup andturnclockwiseto loosen it and remove it completely.44\n",
            "Two-Piece Crankset\n",
            "Two-piece cranksets are commonly found on higher endbikes.One side of the crank is permanently attached to thespindle,and the other side of the spindle is slotted to matewith theother crank. The spindle sits on the bottom bracketbearingdirectly. These types of cranks have a compressioncap on thecrank that is removed. Shimano Hollowtech also havetwopinch bolts on that crank. On the crank that is attachedwiththe spindle, there is usually a giant hole, or nothingat all. TheBB system that come with these cranks are either threadedexternal cup or pressed in.\n",
            "The installation and removal process for these cranksvaryfrom manufacturer, so identify the brand, model, andlook upthe official manual.\n",
            "12. Bottom Brackets\n",
            "The bottom bracket system supports a spindle thatattaches to a set ofcrank arms. The bearings in bottom brackets see alot of load fromriding. The bottom bracket shell on the bike framesupports bottom\n",
            "37\n",
            "Cottered Cranks:\n",
            "Cottered cranks are only found on older bikes typicallyaroundearly 1970s. They are obsolete due to their difficultyto workon and mechanical disadvantage. A cotter pin is insertedinto ahole in the cranks to secure the cranks. The cotterpin has aside that is ground into a wedge, and it contactsa flat face onthe spindle. The tip of one side of the cotter pinis threaded,and a nut is threaded onto it to secure the pin whenthe crankis installed.\n",
            "More information on Cottered cranks can be found onSheldonBrown’s website: Cottered Cranks (Google: SheldonBrownCottered Cranks).\n",
            "36\n",
            "Three-Piece Adjustment\n",
            "If a three-piece bottom bracket is slightly loose,then a small adjustmentof the non-drive side cup may be sufficient to eliminatethe play.\n",
            "Approximate completion time: <5 min\n",
            "1.Remove the chain from the chainring and let the chainrest tothe inside of the chainring on the bottom bracketshell.2.Loosen lockring on non-drive side cup.3.Tighten the cup until you feel it contact the bearings.This mayrequire you to remove the non-drive side crank.4.Check the rotation of the spindle. The rotation shouldbesmooth and there should be no play. Loosen/tightenas neededuntil spindle feels properly adjusted.5.Tighten lockring on the non-drive side cup completely.6.Put the chain back onto the chainring.7.Test ride the bike to feel the bottom bracket.\n",
            "Cartridge Bottom Brackets\n",
            "Generally, for cartridge bottom brackets, the bearingsare used untilthey are worn out, and then they are replaced. Formost cartridgebottom brackets, the entire bottom bracket unit isreplaced, includingthe spindle.Again, typically we deal with Englishthreaded bottom\n",
            "43\n"
          ]
        }
      ],
      "source": [
        "# Retrieving Phase\n",
        "retriever = vectorstore.as_retriever(search_type=\"similarity\", search_kwargs={\"k\": 6})\n",
        "\n",
        "# Retrieve test\n",
        "retrieved_docs = retriever.invoke(\"what does happen to bracket components over time?\")\n",
        "print(\"Context retrieved: \")\n",
        "for retrieved_doc in retrieved_docs:\n",
        "    print(retrieved_doc.page_content)"
      ]
    },
    {
      "cell_type": "markdown",
      "metadata": {},
      "source": [
        "# Answer generation phase"
      ]
    },
    {
      "cell_type": "code",
      "execution_count": 8,
      "metadata": {
        "colab": {
          "base_uri": "https://localhost:8080/",
          "height": 1000
        },
        "id": "FDQYkRvN3d1n",
        "outputId": "caf71266-f0d2-4f23-cace-1f7352fa069e"
      },
      "outputs": [
        {
          "name": "stdout",
          "output_type": "stream",
          "text": [
            "Prompt: what does happen to bracket components over time?\n",
            "\n",
            "Context: bracket bearings. During rotation, the bearings roll on the bottombracket cup surfaces. Over time, the bottom bracketsystem canbecome loose and this can accelerate the wear on thebearings andcup surfaces. It is important to properly maintainbottom bracketcomponents to extend their lifetime.Typically, inthe shop weseepress-fittedone-piece bottom brackets(common onbeach cruisers),English threaded three-piece bottom brackets, andEnglishthreadedcartridge bottom brackets.\n",
            "One-Piece Bottom Brackets\n",
            "In one-piece bottom brackets, one S-shaped piece ofsteel forms thecrank arms and goes from the pedal, through the bottombracket, tothe other pedal. This crank also acts as the bottombracket bearingaxle. The crank arm is threaded in the middle andacts as the bottombracket’s spindle. The crank drive side threadingis right-handthreaded, and the non-drive side (left side) is left-handthreaded. It isnecessary to first remove the left side pedal in orderto remove thecrank.\n",
            "One-Piece Overhaul\n",
            "If an one-piece bottom bracket is extremely loosethen it is likely thatthe bearings inside are damaged and/or the cup racesare drasticallyworn. In this situation, a bottom bracket overhaulis needed toreadjust or replace any problem components.\n",
            "●Objective:Be able to diagnose when a one-piece bottombracketneeds an overhaul, be able to replace any damagedparts and beable to properly and securely reinstall the componentsonto thebike.Approximate Completion Time: 15-20 min\n",
            "1.Remove the chain from the chainring and rest it onthe bottombracket shell so that it is out of the way.38\n",
            "\n",
            "Three-Piece Overhaul\n",
            "Over time bottom bracket components will become worn.This maycause the bottom bracket to become loose, make noisesduringrotation, or become hard to pedal/rotate.\n",
            "In these cases, the bottom bracket should be overhauledand partsshould be cleaned and/or replaced if damaged.\n",
            "●Objective:Be able to identify when a bottom bracketneeds anoverhaul. Be able to properly disassemble and reassemblebottombracket components and replace components if needed. \n",
            "●Approximate completion time: 25-30 min1.*(These first 4 steps are the same as in the crankremovaltutorial.) Remove the chain from the chainring andlet thechain rest to the inside of the chainring on the bottombracketshell. \n",
            "2.Begin by removing the crank arm bolt from the crankarm witha crank arm wrench. Loosen the bolt (counterclockwise)untilit is completely removed. For some spindles, you willjust haveto remove a nut that threads onto the spindle itself.The crankarm wrench has a14mmsocket and an8mmhex to removetheaxle bolt/nut. \n",
            "3.Next, you will need acrank arm removal tool. Threadthistool completely into the threads on the crank arm.Be carefulnot to cross-thread or you can strip the threads onthe crankarm! If the threads are not properly engaging thencontact anexperienced mechanic before proceeding.  If you stripthethreads in a crank arm you have fucked up....royally.Sodon't do it.4.With the crank arm removal tool fully engaged, rotatethe armof the tool clockwise.This will cause the tool topush against the41\n",
            "\n",
            "brackets, however, we do see other thread types. Ask an experiencedmechanic is you are unsure of the thread type.\n",
            "Cartridge Replacement\n",
            "To determine if the bottom bracket is worn or hasdeveloped play, dropthe chain off the chainring to the inside.\n",
            "Objective:Be able to identify a cartridge bottombracket andwhen it needs to be replaced. Be able to properlydisassemble oldcartridge bottom bracket and install a new bottombracket.Approximate completion time: 25-30 min1.*(These first 4 steps are the same as in the crankremovaltutorial.) This Removes the chain from the chainringand letthe chain rest to the inside of the chainring on thebottombracket shell. \n",
            "2.Begin by removing the crank arm bolt from the crankarm witha crank arm wrench. Loosen the bolt (counterclockwise)untilit is completely removed. For some spindles you willjust haveto remove a nut that threads onto the spindle itself.The crankarm wrench has a14mmsocket and an8mmhex to removetheaxle bolt/nut. \n",
            "3.Next, you will need acrank arm removal tool. Threadthistool completely into the threads on the crank arm.Be carefulnot to cross-thread or you can strip the threads onthe crankarm! If the threads are not properly engaging thencontact anexperienced mechanic before proceeding.  If you stripthethreads in a crank arm you have fucked up....royally.Sodon't do it.4.With the crank arm removal tool fully engaged, rotatethe armof the tool clockwise.This will cause the tool topush against thebottom bracket spindle in order to disengage the crankarmfrom the spindle.As the crank arm is removed moreresistancewill be encountered but continue to turn the toolarmclockwise until the crank is completely removed. *Repeatthisprocedure for the opposite crank arm. \n",
            "5.Insert abottom bracket cartridgetool fully intothe fittingsof the non-drive side cup. Turn the toolcounterclockwisetoloosen the cup and remove it completely.6.Insert the tool fully into the drive side cup andturnclockwiseto loosen it and remove it completely.44\n",
            "\n",
            "Two-Piece Crankset\n",
            "Two-piece cranksets are commonly found on higher endbikes.One side of the crank is permanently attached to thespindle,and the other side of the spindle is slotted to matewith theother crank. The spindle sits on the bottom bracketbearingdirectly. These types of cranks have a compressioncap on thecrank that is removed. Shimano Hollowtech also havetwopinch bolts on that crank. On the crank that is attachedwiththe spindle, there is usually a giant hole, or nothingat all. TheBB system that come with these cranks are either threadedexternal cup or pressed in.\n",
            "The installation and removal process for these cranksvaryfrom manufacturer, so identify the brand, model, andlook upthe official manual.\n",
            "12. Bottom Brackets\n",
            "The bottom bracket system supports a spindle thatattaches to a set ofcrank arms. The bearings in bottom brackets see alot of load fromriding. The bottom bracket shell on the bike framesupports bottom\n",
            "37\n",
            "\n",
            "Cottered Cranks:\n",
            "Cottered cranks are only found on older bikes typicallyaroundearly 1970s. They are obsolete due to their difficultyto workon and mechanical disadvantage. A cotter pin is insertedinto ahole in the cranks to secure the cranks. The cotterpin has aside that is ground into a wedge, and it contactsa flat face onthe spindle. The tip of one side of the cotter pinis threaded,and a nut is threaded onto it to secure the pin whenthe crankis installed.\n",
            "More information on Cottered cranks can be found onSheldonBrown’s website: Cottered Cranks (Google: SheldonBrownCottered Cranks).\n",
            "36\n",
            "\n",
            "Three-Piece Adjustment\n",
            "If a three-piece bottom bracket is slightly loose,then a small adjustmentof the non-drive side cup may be sufficient to eliminatethe play.\n",
            "Approximate completion time: <5 min\n",
            "1.Remove the chain from the chainring and let the chainrest tothe inside of the chainring on the bottom bracketshell.2.Loosen lockring on non-drive side cup.3.Tighten the cup until you feel it contact the bearings.This mayrequire you to remove the non-drive side crank.4.Check the rotation of the spindle. The rotation shouldbesmooth and there should be no play. Loosen/tightenas neededuntil spindle feels properly adjusted.5.Tighten lockring on the non-drive side cup completely.6.Put the chain back onto the chainring.7.Test ride the bike to feel the bottom bracket.\n",
            "Cartridge Bottom Brackets\n",
            "Generally, for cartridge bottom brackets, the bearingsare used untilthey are worn out, and then they are replaced. Formost cartridgebottom brackets, the entire bottom bracket unit isreplaced, includingthe spindle.Again, typically we deal with Englishthreaded bottom\n",
            "43\n",
            "\n",
            "Answer: Over time, bottom bracket components can become loose, leading to accelerated wear on the bearings and cup surfaces. Proper maintenance is important to extend the lifetime of bottom bracket components. In the case of one-piece bottom brackets, an overhaul may be needed if the bearings inside are damaged or if the cup races are worn. For three-piece bottom brackets, components may become worn and loose over time, requiring cleaning and replacement if necessary. Cartridge bottom brackets may need to be replaced entirely when the bearings are worn out.\n",
            "\n",
            "Evaluation: correct\n",
            "\n",
            "Answer description: The answer provides a detailed explanation of what happens to bracket components over time, including the issues that can arise with one-piece, three-piece, and cartridge bottom brackets.\n"
          ]
        }
      ],
      "source": [
        "\n",
        "#get password using GUI\n",
        "os.environ[\"OPENAI_API_KEY\"] = getpass.getpass()\n",
        "\n",
        "#class to grade llm answer\n",
        "class gradeEnum(str, Enum):\n",
        "    correct = \"correct\"\n",
        "    incorrect = \"incorrect\"\n",
        "\n",
        "#class to eval answer by question and context\n",
        "class LLMEvalResult(BaseModel):\n",
        "    grade: gradeEnum = Field(description=\"Final grade label. Accepted labels: correct, incorrect\")\n",
        "    description: str = Field(description=\"Explanation of why the specific grade was assigned. Must be concise. Not more than 2 sentences\")\n",
        "    llm_answer: str = Field(description=\"The original LLM answer evaluated\", default=\"\")\n",
        "    context: str = Field(description=\"The context used for the evaluation\", default=\"\")\n",
        "\n",
        "json_parser = JsonOutputParser(pydantic_object=LLMEvalResult)\n",
        "\n",
        "\n",
        "# LLM for answering questions and evaluating Q-A pairs\n",
        "llm = ChatOpenAI(model=\"gpt-3.5-turbo-0125\")\n",
        "llm_selfeval = ChatOpenAI(model_name=\"gpt-3.5-turbo\", temperature=0)\n",
        "\n",
        "# Define prompts\n",
        "qa_prompt = ChatPromptTemplate.from_messages([\n",
        "    (\"human\", \"You are an assistant for question-answering tasks. Use the following pieces of retrieved context to answer the question. If you don't know the answer, just say that you don't know. Question: {question} Context: {context} Answer:\")\n",
        "])\n",
        "\n",
        "qa_eval_prompt_text = \"\"\"\n",
        "You are a teacher evaluating a test. \n",
        "You are provided with a question along with an answer for the question written by a student. Evaluate the question-answer pair and provide feedback.\n",
        "{format_instructions}\n",
        "Question: {question}\n",
        "Answer: {answer}\n",
        "\"\"\"\n",
        "\n",
        "qa_eval_prompt = PromptTemplate(\n",
        "    template=qa_eval_prompt_text,\n",
        "    input_variables=[\"question\", \"answer\"],\n",
        "    partial_variables={\"format_instructions\": json_parser.get_format_instructions()}\n",
        ")\n",
        "\n",
        "qa_eval_prompt_with_context_text = \"\"\"\n",
        "You are a teacher evaluating a test. \n",
        "You are provided with a question along with an answer for the question written by a student. Evaluate the question-answer pair using the provided context and provide feedback. Only mark the answer as correct if it agrees with the provided context.\n",
        "{format_instructions}\n",
        "Context: {context}\n",
        "Question: {question}\n",
        "Answer: {answer}\n",
        "\"\"\"\n",
        "\n",
        "qa_eval_prompt_with_context = PromptTemplate(\n",
        "    template=qa_eval_prompt_with_context_text,\n",
        "    input_variables=[\"question\", \"answer\", \"context\"],\n",
        "    partial_variables={\"format_instructions\": json_parser.get_format_instructions()}\n",
        ")\n",
        "\n",
        "# Define RAG Chain\n",
        "def format_docs(docs):\n",
        "    return \"\\n\\n\".join(doc.page_content for doc in docs)\n",
        "\n",
        "def retrieve_answer(output):\n",
        "    return output.content\n",
        "\n",
        "def process_eval_output(output, llm_answer, context):\n",
        "    if output['grade'] == \"correct\":\n",
        "        output['llm_answer'] = llm_answer\n",
        "    output['context'] = context\n",
        "    return output\n",
        "\n",
        "rag_chain = (\n",
        "    RunnableParallel(\n",
        "        context=retriever | format_docs,\n",
        "        question=RunnablePassthrough()\n",
        "    ) |\n",
        "    RunnableParallel(\n",
        "        answer=qa_prompt | llm | retrieve_answer,\n",
        "        question=itemgetter(\"question\"),\n",
        "        context=itemgetter(\"context\")\n",
        "    ) |\n",
        "    RunnableParallel(\n",
        "        eval_result=qa_eval_prompt_with_context | llm_selfeval | json_parser,\n",
        "        context=itemgetter(\"context\"),\n",
        "        question=itemgetter(\"question\"),\n",
        "        answer=itemgetter(\"answer\")\n",
        "    ) |\n",
        "    (lambda x: process_eval_output(x['eval_result'], x['answer'], x['context']))\n",
        ")\n",
        "\n",
        "# Get user prompt and invoke RAG chain\n",
        "user_prompt = \"what does happen to bracket components over time?\"\n",
        "json_answer = rag_chain.invoke(user_prompt)\n",
        "print(f\"Prompt: {user_prompt}\\n\\nContext: {json_answer['context']}\\n\\nAnswer: {json_answer['llm_answer']}\\n\\nEvaluation: {json_answer['grade']}\\n\\nAnswer description: {json_answer['description']}\")\n"
      ]
    }
  ],
  "metadata": {
    "colab": {
      "provenance": []
    },
    "kernelspec": {
      "display_name": "Python 3",
      "name": "python3"
    },
    "language_info": {
      "codemirror_mode": {
        "name": "ipython",
        "version": 3
      },
      "file_extension": ".py",
      "mimetype": "text/x-python",
      "name": "python",
      "nbconvert_exporter": "python",
      "pygments_lexer": "ipython3",
      "version": "3.10.12"
    }
  },
  "nbformat": 4,
  "nbformat_minor": 0
}
